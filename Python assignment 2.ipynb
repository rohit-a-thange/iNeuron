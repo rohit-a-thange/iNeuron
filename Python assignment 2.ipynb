{
 "cells": [
  {
   "cell_type": "markdown",
   "id": "cf370909",
   "metadata": {},
   "source": [
    "1.What are the two values of the Boolean data type? How do you write them?\n",
    "Answer: True and False"
   ]
  },
  {
   "cell_type": "markdown",
   "id": "b0169c20",
   "metadata": {},
   "source": [
    "2.What are the three different types of Boolean operators?\n",
    "Answer: And, or and not"
   ]
  },
  {
   "cell_type": "markdown",
   "id": "5bf7ff43",
   "metadata": {},
   "source": [
    "3.Make a list of each Boolean operator's truth tables (i.e. every possible combination of Boolean\n",
    "values for the operator and what it evaluate ).\n",
    "\n",
    "Answer:\n",
    "AND:\n",
    "True and True -> True\n",
    "True and False -> False\n",
    "False and True -> False\n",
    "False and False -> False\n",
    "\n",
    "OR:\n",
    "True or True -> True\n",
    "True or False -> True\n",
    "False or True -> True\n",
    "False or False -> False\n",
    "\n",
    "NOT:\n",
    "not True -> False\n",
    "not False -> True"
   ]
  },
  {
   "cell_type": "markdown",
   "id": "bc0d7bff",
   "metadata": {},
   "source": [
    "4.What are the values of the following expressions?\n",
    "\n",
    "Answer:\n",
    "(5 > 4) and (3 == 5) -> False\n",
    "not (5 > 4) -> False\n",
    "(5 > 4) or (3 == 5) -> True\n",
    "not ((5 > 4) or (3 == 5)) -> False\n",
    "(True and True) and (True == False) -> False\n",
    "(not False) or (not True) -> True"
   ]
  },
  {
   "cell_type": "markdown",
   "id": "0492b22b",
   "metadata": {},
   "source": [
    "5.What are the six comparison operators?\n",
    "\n",
    "Answer: ==, !=, <, >, <=, >="
   ]
  },
  {
   "cell_type": "markdown",
   "id": "d330762f",
   "metadata": {},
   "source": [
    "6.How do you tell the difference between the equal to and assignment operators?Describe a\n",
    "condition and when you would use one.\n",
    "\n",
    "Answer: == is the equality operator, and = is the assignment operator.\n",
    "x == 5: \n",
    "    checks if x is equal to 5, whereas \n",
    "x = 5 assigns the value 5 to x."
   ]
  },
  {
   "cell_type": "markdown",
   "id": "a2293565",
   "metadata": {},
   "source": [
    "7.Identify the three blocks in this code:\n",
    "spam = 0\n",
    "if spam == 10:\n",
    "    print('eggs')\n",
    "if spam > 5:\n",
    "    print('bacon')\n",
    "else:\n",
    "    print('ham')\n",
    "print('spam')\n",
    "print('spam')\n",
    "\n",
    "Answer:\n",
    "The three blocks are:\n",
    "if spam == 10:\n",
    "if spam > 5:\n",
    "else:"
   ]
  },
  {
   "cell_type": "markdown",
   "id": "af0f23f3",
   "metadata": {},
   "source": [
    "8.Write code that prints Hello if 1 is stored in spam, prints Howdy if 2 is stored in spam, and prints\n",
    "Greetings! if anything else is stored in spam.\n",
    "\n",
    "Answer:\n",
    "spam = int(input(\"Enter a number: \"))\n",
    "if spam == 1:\n",
    "    print(\"Hello\")\n",
    "elif spam == 2:\n",
    "    print(\"Howdy\")\n",
    "else:\n",
    "    print(\"Greetings!\")"
   ]
  },
  {
   "cell_type": "markdown",
   "id": "a065fa0d",
   "metadata": {},
   "source": [
    "9.If your programme is stuck in an endless loop, what keys you’ll press?\n",
    "\n",
    "Answer: Ctrl + C"
   ]
  },
  {
   "cell_type": "markdown",
   "id": "9ba3910f",
   "metadata": {},
   "source": [
    "10.How can you tell the difference between break and continue?\n",
    "\n",
    "Answer: break exits the loop, while continue skips the current iteration and continues with the next iteration."
   ]
  },
  {
   "cell_type": "markdown",
   "id": "40d43699",
   "metadata": {},
   "source": [
    "11.In a for loop, what is the difference between range(10), range(0, 10), and range(0, 10, 1)?\n",
    "\n",
    "Answer: There is no difference in the output. All three produce the same sequence of numbers from 0 to 9."
   ]
  },
  {
   "cell_type": "markdown",
   "id": "375a3bbf",
   "metadata": {},
   "source": [
    "12.Write a short program that prints the numbers 1 to 10 using a for loop.\n",
    "Then write an equivalent program that prints the numbers 1 to 10 using a while loop.\n",
    "\n",
    "Answer:\n",
    "for i in range(1, 11): //for loop\n",
    "    print(i)\n",
    "\n",
    "i = 1\n",
    "while i <= 10: // while loop\n",
    "    print(i)\n",
    "    i += 1"
   ]
  },
  {
   "cell_type": "markdown",
   "id": "fb05894d",
   "metadata": {},
   "source": [
    "13.If you had a function named bacon() inside a module named spam, how would you call it after\n",
    "importing spam?\n",
    "\n",
    "Answer: spam.bacon()"
   ]
  }
 ],
 "metadata": {
  "kernelspec": {
   "display_name": "Python 3 (ipykernel)",
   "language": "python",
   "name": "python3"
  },
  "language_info": {
   "codemirror_mode": {
    "name": "ipython",
    "version": 3
   },
   "file_extension": ".py",
   "mimetype": "text/x-python",
   "name": "python",
   "nbconvert_exporter": "python",
   "pygments_lexer": "ipython3",
   "version": "3.11.4"
  }
 },
 "nbformat": 4,
 "nbformat_minor": 5
}
