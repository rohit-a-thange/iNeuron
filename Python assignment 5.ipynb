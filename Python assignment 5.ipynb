{
 "cells": [
  {
   "cell_type": "markdown",
   "id": "7b4308a7",
   "metadata": {},
   "source": [
    "1.What does an empty dictionary's code look like?\n",
    "Answer: {}\n",
    "\n",
    "2.What is the value of a dictionary value with the key 'foo' and the value 42?\n",
    "Answer: 42\n",
    "\n",
    "3.What is the most significant distinction between a dictionary and a list?\n",
    "Answer: Dictionaries store key-value pairs, while lists store an ordered collections of items.\n",
    "\n",
    "4.What happens if you try to access spam['foo'] if spam is {'bar': 100}?\n",
    "Answer: Throws a KeyError.\n",
    "\n",
    "5.If a dictionary is stored in spam, what is the difference between the expressions 'cat' in spam and 'cat' in spam.keys()?\n",
    "Answer: There is no difference as both check if 'cat' is a key in the dictionary.\n",
    "\n",
    "6.If a dictionary is stored in spam, what is the difference between the expressions 'cat' in spam and 'cat' in spam.values()?\n",
    "Answer: 'cat' in spam checks if 'cat' is a key, while 'cat' in spam.values() checks if 'cat' is a value.\n",
    "\n",
    "7.What is a shortcut for the following code?\n",
    "if 'color' not in spam:\n",
    "    spam['color'] = 'black'\n",
    "Answer: spam.setdefault('color', 'black')\n",
    "\n",
    "8.How do you \"pretty print\" dictionary values using which module and function?\n",
    "Answer: Use the pprint module and pprint.pprint() function."
   ]
  }
 ],
 "metadata": {
  "kernelspec": {
   "display_name": "Python 3 (ipykernel)",
   "language": "python",
   "name": "python3"
  },
  "language_info": {
   "codemirror_mode": {
    "name": "ipython",
    "version": 3
   },
   "file_extension": ".py",
   "mimetype": "text/x-python",
   "name": "python",
   "nbconvert_exporter": "python",
   "pygments_lexer": "ipython3",
   "version": "3.11.4"
  }
 },
 "nbformat": 4,
 "nbformat_minor": 5
}
