{
 "cells": [
  {
   "cell_type": "markdown",
   "id": "ea7cac48",
   "metadata": {},
   "source": [
    "# ALL QUESTIONS: "
   ]
  },
  {
   "cell_type": "markdown",
   "id": "3e68b0e7",
   "metadata": {},
   "source": [
    "1. In the below elements which of them are values or an expression? eg:- values can be\n",
    "integer or string and expressions will be mathematical operators.\n",
    "*\n",
    "'hello'\n",
    "-87.8\n",
    "-\n",
    "/\n",
    "+\n",
    "6\n",
    "\n",
    "2. What is the difference between string and variable?\n",
    "\n",
    "3. Describe three different data types.\n",
    "\n",
    "4. What is an expression made up of? What do all expressions do?\n",
    "5. This assignment statements, like spam = 10. What is the difference between an expression and a statement?\n",
    "6. After running the following code, what does the variable bacon contain?\n",
    "bacon = 22\n",
    "bacon + 1\n",
    "\n",
    "7. What should the values of the following two terms be?\n",
    "\"spam\" + \"spamspam\"\n",
    "\"spam\" * 3\n",
    "8. Why is eggs a valid variable name while 100 is invalid?\n",
    "\n",
    "9. What three functions can be used to get the integer, floating-point number, or string\n",
    "version of a value?\n",
    "10. Why does this expression cause an error? How can you fix it?\n",
    "\"I have eaten \" + 99 + \" burritos.\""
   ]
  },
  {
   "cell_type": "markdown",
   "id": "94048bf2",
   "metadata": {},
   "source": [
    "# ANSWERS"
   ]
  },
  {
   "cell_type": "markdown",
   "id": "55e2f697",
   "metadata": {},
   "source": [
    "1- In the below elements which of them are values or an expression? eg:- values can be integer or string and expressions will be mathematical operators.\n",
    "\n",
    "Values: 'hello', -87.8, 6\n",
    "Expressions: *, -, /, +"
   ]
  },
  {
   "cell_type": "markdown",
   "id": "33b1d060",
   "metadata": {},
   "source": [
    "2- What is the difference between string and variable?\n",
    "\n",
    "Variable: It is like a container which can store different types of data\n",
    "\n",
    "String: It is a datatype which can be used to store or display like a message in the compiler or the display monitor."
   ]
  },
  {
   "cell_type": "markdown",
   "id": "e53e4acc",
   "metadata": {},
   "source": [
    "3- Describe three different data types.\n",
    "\n",
    "Numeric data types: int, float, complex-\n",
    "\n",
    "This data type is used to include and use numeric data for user to do simple or complex mathematical operations.\n",
    "    eg. 1 + 1.2 = 2.2\n",
    "\n",
    "Boolean type: bool: \n",
    "\n",
    "Boolean data type is used in situations where we need an output in 0 (False) or 1 (True) way.\n",
    "eg. if True:\n",
    "        print('Condition is valid.')\n",
    "    elif False:\n",
    "        print('Condition is not valid.')\n",
    "    else:\n",
    "        print('Check values & try again.')\n",
    "\n",
    "String: str:  \n",
    "String data types is used to save sentences/statements.\n",
    "eg. 'This is my first Python assignment.'"
   ]
  },
  {
   "cell_type": "markdown",
   "id": "9f4f3410",
   "metadata": {},
   "source": [
    "4- What is an expression made up of? What do all expressions do?\n",
    "\n",
    "An expression is a set of numbers or variables combined using the operations + , – , × or ÷ and it is used to interpret or produce some other value."
   ]
  },
  {
   "cell_type": "markdown",
   "id": "3cf80e2f",
   "metadata": {},
   "source": [
    "5- This assignment statements, like spam = 10. What is the difference between an expression and a statement?\n",
    "\n",
    "Expressions create a value as an output.\n",
    "A statement is an instruction that a Python interpreter can execute."
   ]
  },
  {
   "cell_type": "markdown",
   "id": "7dab19b3",
   "metadata": {},
   "source": [
    "6- After running the following code, what does the variable bacon contain?\n",
    "bacon = 22\n",
    "bacon + 1\n",
    "\n",
    "print(bacon) gives\n",
    "22"
   ]
  },
  {
   "cell_type": "markdown",
   "id": "c4cd0218",
   "metadata": {},
   "source": [
    "7- What should the values of the following two terms be?\n",
    "\"spam\" + \"spamspam\"\n",
    "\"spam\" * 3\n",
    "\n",
    "Output-\n",
    "'spamspamspam'"
   ]
  },
  {
   "cell_type": "markdown",
   "id": "b368b801",
   "metadata": {},
   "source": [
    "8- Why is eggs a valid variable name while 100 is invalid?\n",
    "\n",
    "Variable cannot start with a number hence eggs a valid variable name while 100 is invalid."
   ]
  },
  {
   "cell_type": "markdown",
   "id": "2ab6bc59",
   "metadata": {},
   "source": [
    "9- What three functions can be used to get the integer, floating-point number, or string\n",
    "version of a value?\n",
    "\n",
    "Integer: int()\n",
    "Floating- point: float()\n",
    "String: str()"
   ]
  },
  {
   "cell_type": "markdown",
   "id": "870680d6",
   "metadata": {},
   "source": [
    "10- Why does this expression cause an error? How can you fix it?\n",
    "\"I have eaten \" + 99 + \" burritos.\"\n",
    "\n",
    "We can only concatinate string to string. \n",
    "This error occurs when we try to concatinate strings to integers.\n",
    "To fix this we can try the following.\n",
    "\n",
    "Typecasting: \"I have eaten \" + str(99) + \" burritos\"\n",
    "\n",
    "or by quoting the integer: \"I have eaten \" + \"99\" + \" burritos.\""
   ]
  }
 ],
 "metadata": {
  "kernelspec": {
   "display_name": "Python 3 (ipykernel)",
   "language": "python",
   "name": "python3"
  },
  "language_info": {
   "codemirror_mode": {
    "name": "ipython",
    "version": 3
   },
   "file_extension": ".py",
   "mimetype": "text/x-python",
   "name": "python",
   "nbconvert_exporter": "python",
   "pygments_lexer": "ipython3",
   "version": "3.9.13"
  }
 },
 "nbformat": 4,
 "nbformat_minor": 5
}
