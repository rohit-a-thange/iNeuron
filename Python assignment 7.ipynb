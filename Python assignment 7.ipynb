{
 "cells": [
  {
   "cell_type": "markdown",
   "id": "7b4308a7",
   "metadata": {},
   "source": [
    "1.Create two int type variables, apply addition, subtraction, division, and multiplications and store the results in variables. Then print the data in the following format by calling the variables.\n",
    "Answer:\n",
    "#Define two integer variables\n",
    "num1 = 10\n",
    "num2 = 5\n",
    "\n",
    "#Perform arithmetic operations\n",
    "addition = num1 + num2\n",
    "subtraction = num1 - num2\n",
    "multiplication = num1 * num2\n",
    "division = num1 / num2  # Division results in a float in Python 3\n",
    "\n",
    "#Print results in the required format\n",
    "print(f\"Addition of {num1} and {num2} is: {addition}\")\n",
    "print(f\"Subtraction of {num1} and {num2} is: {subtraction}\")\n",
    "print(f\"Multiplication of {num1} and {num2} is: {multiplication}\")\n",
    "print(f\"Division of {num1} and {num2} is: {division}\")\n",
    "    \n",
    "\n",
    "2.What is the difference between the following operators: \n",
    "Answers:\n",
    "(i) ‘/’ & ‘//’ : The / operator performs floating-point division, which returns a decimal value, while the // operator performs integer (floor) division, which returns the largest integer less than or equal to the division result\n",
    "(ii) ‘**’ & ‘^’ : '**' is the exponentiation operator, and ^ is the XOR operator.\n",
    "\n",
    "\n",
    "3.List the logical operators.\n",
    "Answer: Logical operators are used to combine conditional statements. The and operator returns True if both operands are true, the or operator returns True if at least one operand is true, and the not operator inverts the truth value of the operand.\n",
    "\n",
    "4.Explain right shift operator and left shift operator with examples.\n",
    "\n",
    "Answer:\n",
    "The right shift operator (>>) shifts the bits of a number to the right by a specified number of positions, effectively dividing the number by 2 for each shift. \n",
    "For example, 8 >> 2 shifts the bits of 8 (which is 1000 in binary) two positions to the right, resulting in 2 (which is 10 in binary).\n",
    "\n",
    "The left shift operator (<<) shifts the bits of a number to the left by a specified number of positions, effectively multiplying the number by 2 for each shift. \n",
    "For example, 3 << 2 shifts the bits of 3 (which is 11 in binary) two positions to the left, resulting in 12 (which is 1100 in binary).\n",
    "\n",
    "5.Create a list containing int type data of length 15. Then write a code to check if 10 is present in the list or not.\n",
    "\n",
    "Answer: \n",
    "numbers = [3, 7, 1, 10, 23, 45, 9, 15, 8, 4, 12, 18, 5, 20, 30]\n",
    "if 10 in numbers:\n",
    "    print(\"10 is present\")\n",
    "else:\n",
    "    print(\"10 is absent\")"
   ]
  }
 ],
 "metadata": {
  "kernelspec": {
   "display_name": "Python 3 (ipykernel)",
   "language": "python",
   "name": "python3"
  },
  "language_info": {
   "codemirror_mode": {
    "name": "ipython",
    "version": 3
   },
   "file_extension": ".py",
   "mimetype": "text/x-python",
   "name": "python",
   "nbconvert_exporter": "python",
   "pygments_lexer": "ipython3",
   "version": "3.11.4"
  }
 },
 "nbformat": 4,
 "nbformat_minor": 5
}
