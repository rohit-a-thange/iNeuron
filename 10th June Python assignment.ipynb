{
 "cells": [
  {
   "cell_type": "markdown",
   "id": "7b4308a7",
   "metadata": {},
   "source": [
    "1.What is the difference between a built-in function and a user-defined function in Python? Provide an example of each.\n",
    "Answer: Built-in functions are pre-defined functions provided by Python, such as print(), len(), and sum(). User-defined functions are functions created by the user using the def keyword.\n",
    "\n",
    "Built-in function- \n",
    "print(\"Hello, World!\")\n",
    "\n",
    "User-defined function-\n",
    "def greet(name):\n",
    "    return f\"Hello, {name}!\"\n",
    "print(greet(\"Alice\"))"
   ]
  },
  {
   "cell_type": "markdown",
   "id": "7c6df75f",
   "metadata": {},
   "source": [
    "2.How can you pass arguments to a function in Python? \n",
    "Explain the difference between positional arguments and keyword arguments.\n",
    "\n",
    "Answer: Arguments can be passed to a function using positional arguments or keyword arguments.\n",
    "Explanation:\n",
    "Positional arguments are passed in the order in which they are defined in the function.\n",
    "Keyword arguments are passed using the parameter name, allowing the order to be changed."
   ]
  },
  {
   "cell_type": "markdown",
   "id": "ce453fd4",
   "metadata": {},
   "source": [
    "3.What is the purpose of the return statement in a function? Can a function have multiple return statements? Explain with an example.\n",
    "\n",
    "Answer: The return statement is used to exit a function and return a value to the caller.\n",
    "def check_number(num):\n",
    "    if num > 0:\n",
    "        return \"Positive\"\n",
    "    elif num < 0:\n",
    "        return \"Negative\"\n",
    "    else:\n",
    "        return \"Zero\"\n",
    "print(check_number(5))\n",
    "print(check_number(-3))\n",
    "print(check_number(0))"
   ]
  },
  {
   "cell_type": "markdown",
   "id": "71c8335f",
   "metadata": {},
   "source": [
    "4.What are lambda functions in Python? How are they different from regular functions? Provide an example where a lambda function can be useful.\n",
    "\n",
    "Answer: Lambda functions are anonymous functions defined using the lambda keyword. They are different from regular functions as they are typically used for short, simple operations and do not have a name.\n",
    "//Regular function\n",
    "def add(a, b):\n",
    "    return a + b\n",
    "\n",
    "//Lambda function\n",
    "add_lambda = lambda a, b: a + b"
   ]
  },
  {
   "cell_type": "markdown",
   "id": "adf17b6a",
   "metadata": {},
   "source": [
    "5.How does the concept of \"scope\" apply to functions in Python? Explain the difference between local scope and global scope.\n",
    "Answer: Scope refers to the region of the code where a variable is accessible. \n",
    "Local scope refers to variables defined within a function, while global scope refers to variables defined outside any function."
   ]
  },
  {
   "cell_type": "markdown",
   "id": "d5ece8dd",
   "metadata": {},
   "source": [
    "6.How can you use the \"return\" statement in a Python function to return multiple values?\n",
    "Answer: You can return multiple values from a function by returning them as a tuple."
   ]
  },
  {
   "cell_type": "markdown",
   "id": "907061d8",
   "metadata": {},
   "source": [
    "7.What is the difference between the \"pass by value\" and \"pass by reference\" concepts when it comes to function arguments in Python?\n",
    "Answer: In Python, arguments are passed by reference, meaning that the function receives a reference to the original object. However, immutable objects (e.g., integers, strings) behave as if they are passed by value because their values cannot be changed."
   ]
  },
  {
   "cell_type": "markdown",
   "id": "625f9569",
   "metadata": {},
   "source": [
    "8.Create a function that can intake integer or decimal value and do the following operations:\n",
    "Answer:\n",
    "import math\n",
    "def math_operations(x):\n",
    "    log_x = math.log(x)\n",
    "    exp_x = math.exp(x)\n",
    "    power_x = 2 ** x\n",
    "    sqrt_x = math.sqrt(x)\n",
    "    return log_x, exp_x, power_x, sqrt_x\n",
    "result = math_operations(2)\n",
    "print(result)"
   ]
  },
  {
   "cell_type": "markdown",
   "id": "e8c975e6",
   "metadata": {},
   "source": [
    "9.Create a function that takes a full name as an argument and returns first name and last name.\n",
    "Answer:\n",
    "def split_name(full_name):\n",
    "    first_name, last_name = full_name.split()\n",
    "    return first_name, last_name\n",
    "first, last = split_name(\"John Doe\")\n",
    "print(f\"First Name: {first}, Last Name: {last}\")"
   ]
  }
 ],
 "metadata": {
  "kernelspec": {
   "display_name": "Python 3 (ipykernel)",
   "language": "python",
   "name": "python3"
  },
  "language_info": {
   "codemirror_mode": {
    "name": "ipython",
    "version": 3
   },
   "file_extension": ".py",
   "mimetype": "text/x-python",
   "name": "python",
   "nbconvert_exporter": "python",
   "pygments_lexer": "ipython3",
   "version": "3.11.4"
  }
 },
 "nbformat": 4,
 "nbformat_minor": 5
}
