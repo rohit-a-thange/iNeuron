{
 "cells": [
  {
   "cell_type": "markdown",
   "id": "d117f0f2",
   "metadata": {},
   "source": [
    "### 11th June Python Assignment\n",
    "\n",
    "1.What is a lambda function in Python, and how does it differ from a regular function?\n",
    "\n",
    "Answer: A lambda function is an anonymous function defined using the lambda keyword. It differs from a regular function in that it is typically used for short, simple operations and does not have a name.\n",
    "\n",
    "   - Example:\n",
    "     \n",
    "     ### Regular function\n",
    "     def add(a, b):\n",
    "         return a + b\n",
    "\n",
    "     ### Lambda function\n",
    "     add_lambda = lambda a, b: a + b      "
   ]
  },
  {
   "cell_type": "markdown",
   "id": "920e49e5",
   "metadata": {},
   "source": [
    "2.Can a lambda function in Python have multiple arguments? If yes, how can you define and use them?\n",
    "\n",
    "Answer: Yes, a lambda function in Python can have multiple arguments.\n",
    "\n",
    "Example:\n",
    "\n",
    "    multiply = lambda x, y: x * y\n",
    "    result = multiply(3, 4)\n",
    "    print(result)  # Output: 12"
   ]
  },
  {
   "cell_type": "markdown",
   "id": "5bae59ac",
   "metadata": {},
   "source": [
    "3.How are lambda functions typically used in Python? Provide an example use case.\n",
    "\n",
    "Answer: Lambda functions are typically used in situations where a small, unnamed function is required for a short period of time. They are often used with higher-order functions like `map()`, `filter()`, and `reduce()`.\n",
    "\n",
    "Example:\n",
    "     \n",
    "     numbers = [1, 2, 3, 4, 5]\n",
    "     squared = list(map(lambda x: x**2, numbers))\n",
    "     print(squared)  # Output: [1, 4, 9, 16, 25]"
   ]
  },
  {
   "cell_type": "markdown",
   "id": "cfc5868a",
   "metadata": {},
   "source": [
    "4.What are the advantages and limitations of lambda functions compared to regular functions in Python?\n",
    "\n",
    "Answer:\n",
    "\n",
    "     - Advantages: \n",
    "       - Concise and compact syntax.\n",
    "       - Useful for short, simple operations.\n",
    "       - Can be defined inline with other code.\n",
    "       \n",
    "     - Limitations:\n",
    "       - Limited to a single expression.\n",
    "       - Less readable for complex operations.\n",
    "       - Cannot contain statements or annotations."
   ]
  },
  {
   "cell_type": "markdown",
   "id": "1347571f",
   "metadata": {},
   "source": [
    "5.Are lambda functions in Python able to access variables defined outside of their own scope? Explain with an example.\n",
    "\n",
    "Answer: Yes, lambda functions can access variables defined outside of their own scope, known as closures.\n",
    "\n",
    "Example:\n",
    "     \n",
    "     def make_multiplier(n):\n",
    "         return lambda x: x * n\n",
    "\n",
    "     doubler = make_multiplier(2)\n",
    "     print(doubler(5))  # Output: 10"
   ]
  },
  {
   "cell_type": "markdown",
   "id": "72733fd9",
   "metadata": {},
   "source": [
    "6.Write a lambda function to calculate the square of a given number.\n",
    "\n",
    "Answer:\n",
    "     \n",
    "     square = lambda x: x**2\n",
    "     print(square(4))  # Output: 16"
   ]
  },
  {
   "cell_type": "markdown",
   "id": "e4f31a8f",
   "metadata": {},
   "source": [
    "7.Create a lambda function to find the maximum value in a list of integers.\n",
    "\n",
    "Answer:\n",
    "     \n",
    "     max_value = lambda lst: max(lst)\n",
    "     print(max_value([1, 2, 3, 4, 5]))  # Output: 5"
   ]
  },
  {
   "cell_type": "markdown",
   "id": "a0050217",
   "metadata": {},
   "source": [
    "8.Implement a lambda function to filter out all the even numbers from a list of integers.\n",
    "\n",
    "Answer:\n",
    "     \n",
    "     numbers = [1, 2, 3, 4, 5, 6, 7, 8, 9, 10]\n",
    "     evens = list(filter(lambda x: x % 2 == 0, numbers))\n",
    "     print(evens)  # Output: [2, 4, 6, 8, 10]"
   ]
  },
  {
   "cell_type": "markdown",
   "id": "02b668e0",
   "metadata": {},
   "source": [
    "9.Write a lambda function to sort a list of strings in ascending order based on the length of each string.\n",
    "\n",
    "Answer:\n",
    "     \n",
    "     strings = [\"apple\", \"banana\", \"cherry\", \"date\"]\n",
    "     sorted_strings = sorted(strings, key=lambda s: len(s))\n",
    "     print(sorted_strings)  # Output: ['date', 'apple', 'banana', 'cherry']"
   ]
  },
  {
   "cell_type": "markdown",
   "id": "816adc2d",
   "metadata": {},
   "source": [
    "10.Create a lambda function that takes two lists as input and returns a new list containing the common elements between the two lists.\n",
    "\n",
    "Answer:\n",
    "      \n",
    "      common_elements = lambda lst1, lst2: list(filter(lambda x: x in lst2, lst1))\n",
    "      print(common_elements([1, 2, 3, 4], [3, 4, 5, 6]))  # Output: [3, 4]"
   ]
  },
  {
   "cell_type": "markdown",
   "id": "6f2ea429",
   "metadata": {},
   "source": [
    "11.Write a recursive function to calculate the factorial of a given positive integer.\n",
    "\n",
    "Answer:\n",
    "      \n",
    "      def factorial(n):\n",
    "          if n == 0:\n",
    "              return 1\n",
    "          else:\n",
    "              return n * factorial(n - 1)\n",
    "\n",
    "      print(factorial(5))  # Output: 120\n",
    "      "
   ]
  },
  {
   "cell_type": "code",
   "execution_count": null,
   "id": "aa89eb43",
   "metadata": {},
   "outputs": [],
   "source": [
    "12.Implement a recursive function to compute the nth Fibonacci number.\n",
    "\n",
    "Answer:\n",
    "      \n",
    "      def fibonacci(n):\n",
    "          if n <= 1:\n",
    "              return n\n",
    "          else:\n",
    "              return fibonacci(n - 1) + fibonacci(n - 2)\n",
    "\n",
    "      print(fibonacci(6))  # Output: 8"
   ]
  },
  {
   "cell_type": "code",
   "execution_count": null,
   "id": "3f998dd3",
   "metadata": {},
   "outputs": [],
   "source": [
    "13.Create a recursive function to find the sum of all the elements in a given list.\n",
    "\n",
    "Answer:\n",
    "      \n",
    "      def sum_list(lst):\n",
    "          if not lst:\n",
    "              return 0\n",
    "          else:\n",
    "              return lst[0] + sum_list(lst[1:])\n",
    "\n",
    "      print(sum_list([1, 2, 3, 4, 5]))  # Output: 15"
   ]
  },
  {
   "cell_type": "code",
   "execution_count": null,
   "id": "bcab2130",
   "metadata": {},
   "outputs": [],
   "source": [
    "14.Write a recursive function to determine whether a given string is a palindrome.\n",
    "\n",
    "Answer:\n",
    "      \n",
    "      def is_palindrome(s):\n",
    "          if len(s) <= 1:\n",
    "              return True\n",
    "          else:\n",
    "              return s[0] == s[-1] and is_palindrome(s[1:-1])\n",
    "\n",
    "      print(is_palindrome(\"radar\"))  # Output: True\n",
    "      print(is_palindrome(\"hello\"))  # Output: False\n",
    "      "
   ]
  }
 ],
 "metadata": {
  "kernelspec": {
   "display_name": "Python 3 (ipykernel)",
   "language": "python",
   "name": "python3"
  },
  "language_info": {
   "codemirror_mode": {
    "name": "ipython",
    "version": 3
   },
   "file_extension": ".py",
   "mimetype": "text/x-python",
   "name": "python",
   "nbconvert_exporter": "python",
   "pygments_lexer": "ipython3",
   "version": "3.11.4"
  }
 },
 "nbformat": 4,
 "nbformat_minor": 5
}
