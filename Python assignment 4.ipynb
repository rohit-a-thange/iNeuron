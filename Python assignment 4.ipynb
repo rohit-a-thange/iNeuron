{
 "cells": [
  {
   "cell_type": "markdown",
   "id": "7b4308a7",
   "metadata": {},
   "source": [
    "1.What exactly is []?\n",
    "Answer: An empty list.\n",
    "\n",
    "2.In a list of values stored in a variable called spam, how would you assign the value 'hello' as the third value? (Assume [2, 4, 6, 8, 10] are in spam.)\n",
    "Answer: spam[2] = 'hello'\n",
    "\n",
    "3.What is the value of spam[int(int('3' * 2) / 11)]?\n",
    "Answer: 8\n",
    "\n",
    "4.What is the value of spam[-1]?\n",
    "Answer: 10\n",
    "\n",
    "5.What is the value of spam[:2]?\n",
    "Answer: [2, 4]\n",
    "\n",
    "Let's pretend bacon has the list [3.14, 'cat', 11, 'cat', True] for the next three questions.\n",
    "6.What is the value of bacon.index('cat')?\n",
    "Answer: 1\n",
    "\n",
    "7.How does bacon.append(99) change the look of the list value in bacon?\n",
    "Answer: [3.14, 'cat', 11, 'cat', True, 99]\n",
    "\n",
    "8.How does bacon.remove('cat') change the look of the list in bacon?\n",
    "Answer: [3.14, 11, 'cat', True]\n",
    "\n",
    "9.What are the list concatenation and list replication operators?\n",
    "Answer: + and *\n",
    "\n",
    "10.What is the difference between the list methods append() and insert()?\n",
    "Answer: append() adds an item to the end of the list, while insert() adds an item at a specified position.\n",
    "\n",
    "11.What are the two methods for removing items from a list?\n",
    "Answer: remove() and pop()\n",
    "\n",
    "12.Describe how list values and string values are identical.\n",
    "Answer: Both lists and strings are sequences that can be indexed, sliced, and iterated over.\n",
    "\n",
    "13.What's the difference between tuples and lists?\n",
    "Answer: Lists are mutable, while tuples are immutable.\n",
    "\n",
    "14.How do you type a tuple value that only contains the integer 42?\n",
    "Answer: (42,)\n",
    "\n",
    "15.How do you get a list value's tuple form? How do you get a tuple value's list form?\n",
    "Answer: Use tuple() to convert a list to a tuple and list() to convert a tuple to a list.\n",
    "\n",
    "16.Variables that \"contain\" list values are not necessarily lists themselves. Instead, what do they contain?\n",
    "Answer: References to list values.\n",
    "\n",
    "17.How do you distinguish between copy.copy() and copy.deepcopy()?\n",
    "Answer: copy.copy() creates a shallow copy, while copy.deepcopy() creates a deep copy."
   ]
  }
 ],
 "metadata": {
  "kernelspec": {
   "display_name": "Python 3 (ipykernel)",
   "language": "python",
   "name": "python3"
  },
  "language_info": {
   "codemirror_mode": {
    "name": "ipython",
    "version": 3
   },
   "file_extension": ".py",
   "mimetype": "text/x-python",
   "name": "python",
   "nbconvert_exporter": "python",
   "pygments_lexer": "ipython3",
   "version": "3.11.4"
  }
 },
 "nbformat": 4,
 "nbformat_minor": 5
}
