{
 "cells": [
  {
   "cell_type": "markdown",
   "id": "7b4308a7",
   "metadata": {},
   "source": [
    "1.What are keywords in Python? Using the keyword library, print all the Python keywords.\n",
    "Answer: Keywords are reserved words in Python that have special meanings and cannot be used as variable names. \n",
    "Example: import keyword; \n",
    "         print(keyword.kwlist)\n",
    "\n",
    "2.What are the rules to create variables in Python?\n",
    "Answer: Variable names must start with a letter or an underscore, can contain letters, digits, and underscores, and are case-sensitive.\n",
    "\n",
    "3.What are the standards and conventions followed for the nomenclature of variables in Python to improve code readability and maintainability?\n",
    "Answer: Use meaningful names, follow snake_case for variable names, and use uppercase letters for constants.\n",
    "\n",
    "4.What will happen if a keyword is used as a variable name?\n",
    "Answer: It will result in a syntax error.\n",
    "\n",
    "5.For what purpose is the def keyword used?\n",
    "Answer: The def keyword is used to define a function.\n",
    "\n",
    "6.What is the operation of this special character \\?\n",
    "Answer: The backslash \\ is used as an escape character.\n",
    "\n",
    "7.Give an example of the following conditions:\n",
    "-Homogeneous list: [1, 2, 3, 4]\n",
    "-Heterogeneous set: {1, 'a', 3.14}\n",
    "-Homogeneous tuple: (1, 2, 3)\n",
    "\n",
    "8.Explain the mutable and immutable data types with proper explanation & examples.\n",
    "Answer: Mutable data types can be changed after creation (e.g., lists), while immutable data types cannot be changed (e.g., tuples).\n",
    "\n",
    "9.Write a code to create the given structure using only for loop.\n",
    "(* pattern in asc order)\n",
    "Answer:\n",
    "for i in range(1, 10, 2):\n",
    "    print('*' * i)\n",
    "\n",
    "10.Write a code to create the given structure using while loop.\n",
    "(| pattern in desc order)\n",
    "Answer:\n",
    "i = 9\n",
    "while i > 0:\n",
    "    print('|' * i)\n",
    "    i -= 2"
   ]
  }
 ],
 "metadata": {
  "kernelspec": {
   "display_name": "Python 3 (ipykernel)",
   "language": "python",
   "name": "python3"
  },
  "language_info": {
   "codemirror_mode": {
    "name": "ipython",
    "version": 3
   },
   "file_extension": ".py",
   "mimetype": "text/x-python",
   "name": "python",
   "nbconvert_exporter": "python",
   "pygments_lexer": "ipython3",
   "version": "3.11.4"
  }
 },
 "nbformat": 4,
 "nbformat_minor": 5
}
