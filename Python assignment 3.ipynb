{
 "cells": [
  {
   "cell_type": "markdown",
   "id": "3f7ea1df",
   "metadata": {},
   "source": [
    "1.Why are functions advantageous to have in your programs?\n",
    "Answer: Functions allow for code reuse and better organization.\n",
    "They help to break down the complex problems into smaller, manageable pieces, making the code easier to read, maintain, and debug.\n",
    "\n",
    "2.When does the code in a function run: when it's specified or when it's called?\n",
    "Answer: When it's called. The code inside a function is executed only when the function is invoked, not when it is defined.\n",
    "\n",
    "3.What statement creates a function?\n",
    "Answer: The 'def' keyword is used to define a function in Python.\n",
    "\n",
    "4.What is the difference between a function and a function call?\n",
    "Answer: A function is a block of code that performs a specific task, while a function call is the execution of that function. Defining a function creates the function, but calling the function actually runs the code inside it.\n",
    "\n",
    "5.How many global scopes are there in a Python program? How many local scopes?\n",
    "Answer: One global scope and multiple local scopes. There is only one global scope per program execution, but each function call creates a new local scope.\n",
    "\n",
    "6.What happens to variables in a local scope when the function call returns?\n",
    "Answer: Variables in a local scope exist only during the function execution and are discarded once the function returns.\n",
    "\n",
    "7.What is the concept of a return value? Is it possible to have a return value in an expression?\n",
    "Answer: Functions can return values using the return statement, and these values can be used in expressions.\n",
    "\n",
    "8.If a function does not have a return statement, what is the return value of a call to that function?\n",
    "Answer: If a function does not explicitly return a value, it implicitly returns 'None'.\n",
    "\n",
    "9.How do you make a function variable refer to the global variable?\n",
    "Answer: The 'global' keyword allows a function to modify a variable outside its local scope.\n",
    "\n",
    "10.What is the data type of 'None'?\n",
    "Answer:'None' is a special constant in Python, and its data type is 'None' type.\n",
    "\n",
    "11.What does the sentence 'import areallyourpetsnamederic' do?\n",
    "Answer: It imports a module named 'areallyourpetsnamederic'.\n",
    "\n",
    "12.If you had a bacon() feature in a spam module, what would you call it after importing spam?\n",
    "Answer: spam.bacon()\n",
    "\n",
    "13.What can you do to save a program from crashing if it encounters an error?\n",
    "Answer: Use try and except blocks.\n",
    "\n",
    "14.What is the purpose of the try clause? What is the purpose of the except clause?\n",
    "Answer: The try clause is used to test a block of code for errors, and the except clause is used to handle the error."
   ]
  }
 ],
 "metadata": {
  "kernelspec": {
   "display_name": "Python 3 (ipykernel)",
   "language": "python",
   "name": "python3"
  },
  "language_info": {
   "codemirror_mode": {
    "name": "ipython",
    "version": 3
   },
   "file_extension": ".py",
   "mimetype": "text/x-python",
   "name": "python",
   "nbconvert_exporter": "python",
   "pygments_lexer": "ipython3",
   "version": "3.11.4"
  }
 },
 "nbformat": 4,
 "nbformat_minor": 5
}
